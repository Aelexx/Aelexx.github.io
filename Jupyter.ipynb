{
 "cells": [
  {
   "cell_type": "code",
   "execution_count": 8,
   "metadata": {},
   "outputs": [
    {
     "ename": "ModuleNotFoundError",
     "evalue": "No module named 'pandas'",
     "output_type": "error",
     "traceback": [
      "\u001b[1;31m---------------------------------------------------------------------------\u001b[0m",
      "\u001b[1;31mModuleNotFoundError\u001b[0m                       Traceback (most recent call last)",
      "\u001b[1;32mAelexx\\Aelexx.github.io\\Jupyter.ipynb Cell 1\u001b[0m line \u001b[0;36m2\n\u001b[0;32m      <a href='vscode-notebook-cell://github/Aelexx/Aelexx.github.io/Jupyter.ipynb#W3sdnNjb2RlLXZmcw%3D%3D?line=0'>1</a>\u001b[0m \u001b[39mimport\u001b[39;00m \u001b[39mos\u001b[39;00m\n\u001b[1;32m----> <a href='vscode-notebook-cell://github/Aelexx/Aelexx.github.io/Jupyter.ipynb#W3sdnNjb2RlLXZmcw%3D%3D?line=1'>2</a>\u001b[0m \u001b[39mimport\u001b[39;00m \u001b[39mpandas\u001b[39;00m \n\u001b[0;32m      <a href='vscode-notebook-cell://github/Aelexx/Aelexx.github.io/Jupyter.ipynb#W3sdnNjb2RlLXZmcw%3D%3D?line=2'>3</a>\u001b[0m \u001b[39mimport\u001b[39;00m \u001b[39mitertools\u001b[39;00m\n",
      "\u001b[1;31mModuleNotFoundError\u001b[0m: No module named 'pandas'"
     ]
    }
   ],
   "source": [
    "import os\n",
    "import pandas \n",
    "import itertools"
   ]
  },
  {
   "cell_type": "code",
   "execution_count": 5,
   "metadata": {},
   "outputs": [],
   "source": [
    "property_id = \"409874903\"\n",
    "starting_date = \"8daysAgo\"\n",
    "ending_date = \"yesterday\""
   ]
  },
  {
   "cell_type": "code",
   "execution_count": 6,
   "metadata": {},
   "outputs": [],
   "source": [
    "os.environ['GOOGLE_APPLICATION_CREDENTIALS'] = 'https://github.com/Aelexx/Aelexx.github.io/reportsalexmati-176b1871313d.json'"
   ]
  },
  {
   "cell_type": "code",
   "execution_count": 7,
   "metadata": {},
   "outputs": [
    {
     "ename": "ModuleNotFoundError",
     "evalue": "No module named 'google'",
     "output_type": "error",
     "traceback": [
      "\u001b[1;31m---------------------------------------------------------------------------\u001b[0m",
      "\u001b[1;31mModuleNotFoundError\u001b[0m                       Traceback (most recent call last)",
      "\u001b[1;32mAelexx\\Aelexx.github.io\\Jupyter.ipynb Cell 4\u001b[0m line \u001b[0;36m1\n\u001b[1;32m----> <a href='vscode-notebook-cell://github/Aelexx/Aelexx.github.io/Jupyter.ipynb#W6sdnNjb2RlLXZmcw%3D%3D?line=0'>1</a>\u001b[0m \u001b[39mfrom\u001b[39;00m \u001b[39mgoogle\u001b[39;00m\u001b[39m.\u001b[39;00m\u001b[39manalytics\u001b[39;00m\u001b[39m.\u001b[39;00m\u001b[39mdata_v1beta\u001b[39;00m \u001b[39mimport\u001b[39;00m BetaAnalyticsDataClient\n\u001b[0;32m      <a href='vscode-notebook-cell://github/Aelexx/Aelexx.github.io/Jupyter.ipynb#W6sdnNjb2RlLXZmcw%3D%3D?line=1'>2</a>\u001b[0m \u001b[39mfrom\u001b[39;00m \u001b[39mgoogle\u001b[39;00m\u001b[39m.\u001b[39;00m\u001b[39manalytics\u001b[39;00m\u001b[39m.\u001b[39;00m\u001b[39mdata_v1beta\u001b[39;00m\u001b[39m.\u001b[39;00m\u001b[39mtypes\u001b[39;00m \u001b[39mimport\u001b[39;00m (\n\u001b[0;32m      <a href='vscode-notebook-cell://github/Aelexx/Aelexx.github.io/Jupyter.ipynb#W6sdnNjb2RlLXZmcw%3D%3D?line=2'>3</a>\u001b[0m     DateRange,\n\u001b[0;32m      <a href='vscode-notebook-cell://github/Aelexx/Aelexx.github.io/Jupyter.ipynb#W6sdnNjb2RlLXZmcw%3D%3D?line=3'>4</a>\u001b[0m     Dimension,\n\u001b[0;32m      <a href='vscode-notebook-cell://github/Aelexx/Aelexx.github.io/Jupyter.ipynb#W6sdnNjb2RlLXZmcw%3D%3D?line=4'>5</a>\u001b[0m     Metric,\n\u001b[0;32m      <a href='vscode-notebook-cell://github/Aelexx/Aelexx.github.io/Jupyter.ipynb#W6sdnNjb2RlLXZmcw%3D%3D?line=5'>6</a>\u001b[0m     RunReportRequest,\n\u001b[0;32m      <a href='vscode-notebook-cell://github/Aelexx/Aelexx.github.io/Jupyter.ipynb#W6sdnNjb2RlLXZmcw%3D%3D?line=6'>7</a>\u001b[0m )\n\u001b[0;32m      <a href='vscode-notebook-cell://github/Aelexx/Aelexx.github.io/Jupyter.ipynb#W6sdnNjb2RlLXZmcw%3D%3D?line=7'>8</a>\u001b[0m client \u001b[39m=\u001b[39m BetaAnalyticsDataClient()\n",
      "\u001b[1;31mModuleNotFoundError\u001b[0m: No module named 'google'"
     ]
    }
   ],
   "source": [
    "from google.analytics.data_v1beta import BetaAnalyticsDataClient\n",
    "from google.analytics.data_v1beta.types import (\n",
    "    DateRange,\n",
    "    Dimension,\n",
    "    Metric,\n",
    "    RunReportRequest,\n",
    ")\n",
    "client = BetaAnalyticsDataClient()\n",
    "\n",
    "request_api = RunReportRequest(\n",
    "    property=f\"properties/{property_id}\",\n",
    "    dimensions=[\n",
    "\tDimension(name=\"city\")\n",
    "\t],\n",
    "        metrics=[\n",
    "\t    Metric(name=\"activeUsers\")\n",
    "\t],\n",
    "        date_ranges=[DateRange(start_date=\"2023-09-31\", end_date=\"today\")],\n",
    "    )\n",
    "response = client.run_report(request_api)\n",
    "\n",
    "print(\"Report result:\")\n",
    "for row in response.rows:\n",
    "        print(row.dimension_values[0].value, row.metric_values[0].value)"
   ]
  }
 ],
 "metadata": {
  "kernelspec": {
   "display_name": "Python 3",
   "language": "python",
   "name": "python3"
  },
  "language_info": {
   "codemirror_mode": {
    "name": "ipython",
    "version": 3
   },
   "file_extension": ".py",
   "mimetype": "text/x-python",
   "name": "python",
   "nbconvert_exporter": "python",
   "pygments_lexer": "ipython3",
   "version": "3.12.0"
  }
 },
 "nbformat": 4,
 "nbformat_minor": 2
}
