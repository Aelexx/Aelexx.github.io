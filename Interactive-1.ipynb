{
 "cells": [
  {
   "cell_type": "markdown",
   "metadata": {
    "isInteractiveWindowMessageCell": true
   },
   "source": [
    "Connected to Python 3.12.0"
   ]
  },
  {
   "cell_type": "code",
   "execution_count": 1,
   "metadata": {},
   "outputs": [],
   "source": [
    "# print(\"Hi python!\")\n",
    "# print(2+6)\n",
    "# fahrenheit = int(input(\"Fahrenheit temprature: \"))\n",
    "\n",
    "# celsius = (fahrenheit - 32) * (5/9)\n",
    "# celsius_round = round(celsius)\n",
    "# print(str(fahrenheit) + \" degrees Fahrenheit = \" + str(celsius_round) + \"degree Celsius\")\n",
    "import sys\n",
    "print('Helo, my name is ', sys.argv[1])"
   ]
  }
 ],
 "metadata": {
  "kernelspec": {
   "display_name": "Python 3",
   "language": "python",
   "name": "python3"
  },
  "language_info": {
   "codemirror_mode": {
    "name": "ipython",
    "version": 3
   },
   "file_extension": ".py",
   "mimetype": "text/x-python",
   "name": "python",
   "nbconvert_exporter": "python",
   "pygments_lexer": "ipython3",
   "version": "3.12.0"
  }
 },
 "nbformat": 4,
 "nbformat_minor": 2
}
